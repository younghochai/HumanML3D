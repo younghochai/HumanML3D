{
 "cells": [
  {
   "cell_type": "markdown",
   "metadata": {},
   "source": [
    "## Extract Poses from Amass Dataset"
   ]
  },
  {
   "cell_type": "code",
   "execution_count": 30,
   "metadata": {},
   "outputs": [
    {
     "name": "stdout",
     "output_type": "stream",
     "text": [
      "The autoreload extension is already loaded. To reload it, use:\n",
      "  %reload_ext autoreload\n"
     ]
    }
   ],
   "source": [
    "%load_ext autoreload\n",
    "%autoreload 2\n",
    "%matplotlib notebook\n",
    "%matplotlib inline\n",
    "\n",
    "import sys, os\n",
    "import torch\n",
    "import numpy as np\n",
    "import matplotlib\n",
    "import matplotlib.pyplot as plt\n",
    "from tqdm import tqdm\n",
    "\n",
    "from human_body_prior.tools.omni_tools import copy2cpu as c2c\n",
    "\n",
    "os.environ['PYOPENGL_PLATFORM'] = 'egl'"
   ]
  },
  {
   "cell_type": "markdown",
   "metadata": {},
   "source": [
    "### Please remember to download the following subdataset from AMASS website: https://amass.is.tue.mpg.de/download.php. Note only download the <u>SMPL+H G</u> data.\n",
    "* ACCD (ACCD)\n",
    "* HDM05 (MPI_HDM05)\n",
    "* TCDHands (TCD_handMocap)\n",
    "* SFU (SFU)\n",
    "* BMLmovi (BMLmovi)\n",
    "* CMU (CMU)\n",
    "* Mosh (MPI_mosh)\n",
    "* EKUT (EKUT)\n",
    "* KIT  (KIT)\n",
    "* Eyes_Janpan_Dataset (Eyes_Janpan_Dataset)\n",
    "* BMLhandball (BMLhandball)\n",
    "* Transitions (Transitions_mocap)\n",
    "* PosePrior (MPI_Limits)\n",
    "* HumanEva (HumanEva)\n",
    "* SSM (SSM_synced)\n",
    "* DFaust (DFaust_67)\n",
    "* TotalCapture (TotalCapture)\n",
    "* BMLrub (BioMotionLab_NTroje)\n",
    "\n",
    "### Unzip all datasets. In the bracket we give the name of the unzipped file folder. Please correct yours to the given names if they are not the same."
   ]
  },
  {
   "cell_type": "markdown",
   "metadata": {},
   "source": [
    "### Place all files under the directory **./amass_data/**. The directory structure shoud look like the following:  \n",
    "./amass_data/  \n",
    "./amass_data/ACCAD/  \n",
    "./amass_data/BioMotionLab_NTroje/  \n",
    "./amass_data/BMLhandball/  \n",
    "./amass_data/BMLmovi/   \n",
    "./amass_data/CMU/  \n",
    "./amass_data/DFaust_67/  \n",
    "./amass_data/EKUT/  \n",
    "./amass_data/Eyes_Japan_Dataset/  \n",
    "./amass_data/HumanEva/  \n",
    "./amass_data/KIT/  \n",
    "./amass_data/MPI_HDM05/  \n",
    "./amass_data/MPI_Limits/  \n",
    "./amass_data/MPI_mosh/  \n",
    "./amass_data/SFU/  \n",
    "./amass_data/SSM_synced/  \n",
    "./amass_data/TCD_handMocap/  \n",
    "./amass_data/TotalCapture/  \n",
    "./amass_data/Transitions_mocap/  \n",
    "\n",
    "**Please make sure the file path are correct, otherwise it can not succeed.**"
   ]
  },
  {
   "cell_type": "code",
   "execution_count": 31,
   "metadata": {},
   "outputs": [
    {
     "data": {
      "text/plain": [
       "device(type='cpu')"
      ]
     },
     "execution_count": 31,
     "metadata": {},
     "output_type": "execute_result"
    }
   ],
   "source": [
    "# Choose the device to run the body model on.\n",
    "comp_device = torch.device(\"cuda:0\" if torch.cuda.is_available() else \"cpu\")\n",
    "comp_device"
   ]
  },
  {
   "cell_type": "code",
   "execution_count": 32,
   "metadata": {},
   "outputs": [],
   "source": [
    "from human_body_prior.body_model.body_model import BodyModel\n",
    "\n",
    "male_bm_path = './body_models/smplh/male/model.npz'\n",
    "male_dmpl_path = './body_models/dmpls/male/model.npz'\n",
    "\n",
    "female_bm_path = './body_models/smplh/female/model.npz'\n",
    "female_dmpl_path = './body_models/dmpls/female/model.npz'\n",
    "\n",
    "num_betas = 10 # number of body parameters\n",
    "num_dmpls = 8 # number of DMPL parameters\n",
    "\n",
    "male_bm = BodyModel(bm_fname=male_bm_path, num_betas=num_betas, num_dmpls=num_dmpls, dmpl_fname=male_dmpl_path).to(comp_device)\n",
    "faces = c2c(male_bm.f)\n",
    "\n",
    "female_bm = BodyModel(bm_fname=female_bm_path, num_betas=num_betas, num_dmpls=num_dmpls, dmpl_fname=female_dmpl_path).to(comp_device)"
   ]
  },
  {
   "cell_type": "code",
   "execution_count": 33,
   "metadata": {},
   "outputs": [
    {
     "name": "stdout",
     "output_type": "stream",
     "text": [
      "Found folders: ['./amass_data', './amass_data\\\\csvtonpz']\n",
      "Found dataset names: ['csvtonpz']\n",
      "Found files: 129\n",
      "Sample files:\n",
      "  1: ./amass_data\\csvtonpz\\Dancejj0101.npz\n",
      "  2: ./amass_data\\csvtonpz\\Dancejj0102.npz\n",
      "  3: ./amass_data\\csvtonpz\\Dancejj0103.npz\n",
      "  4: ./amass_data\\csvtonpz\\Dancejj0201.npz\n",
      "  5: ./amass_data\\csvtonpz\\Dancejj0202.npz\n",
      "  ... and 124 more files\n"
     ]
    }
   ],
   "source": [
    "from pathlib import Path\n",
    "\n",
    "paths = []\n",
    "folders = []\n",
    "dataset_names = []\n",
    "\n",
    "# amass_data 내의 모든 폴더와 파일을 재귀적으로 탐색\n",
    "for root, dirs, files in os.walk('./amass_data'):\n",
    "    folders.append(root)\n",
    "    \n",
    "    # 각 파일에 대해 처리\n",
    "    for name in files:\n",
    "        # npz 파일만 처리 (AMASS 데이터 파일)\n",
    "        if name.endswith('.npz'):\n",
    "            full_path = os.path.join(root, name)\n",
    "            paths.append(full_path)\n",
    "            \n",
    "            # 경로에서 데이터셋 이름 추출\n",
    "            root_path = Path(root)\n",
    "            # amass_data 이후의 첫 번째 폴더를 데이터셋 이름으로 사용\n",
    "            if len(root_path.parts) > 1:  # ./amass_data 다음에 폴더가 있는 경우\n",
    "                for i, part in enumerate(root_path.parts):\n",
    "                    if part == 'amass_data' and i + 1 < len(root_path.parts):\n",
    "                        dataset_name = root_path.parts[i + 1]\n",
    "                        if dataset_name not in dataset_names:\n",
    "                            dataset_names.append(dataset_name)\n",
    "                        break\n",
    "\n",
    "# 현재 상황 확인을 위한 디버깅\n",
    "print(\"Found folders:\", folders)\n",
    "print(\"Found dataset names:\", dataset_names)\n",
    "print(\"Found files:\", len(paths))\n",
    "print(\"Sample files:\")\n",
    "for i, path in enumerate(paths[:5]):  # 처음 5개 파일만 출력\n",
    "    print(f\"  {i+1}: {path}\")\n",
    "if len(paths) > 5:\n",
    "    print(f\"  ... and {len(paths)-5} more files\")"
   ]
  },
  {
   "cell_type": "code",
   "execution_count": 34,
   "metadata": {},
   "outputs": [
    {
     "name": "stdout",
     "output_type": "stream",
     "text": [
      "Created 1 groups:\n",
      "  csvtonpz: 129 files\n"
     ]
    }
   ],
   "source": [
    "save_root = './pose_data'\n",
    "save_folders = [folder.replace('./amass_data', './pose_data') for folder in folders]\n",
    "for folder in save_folders:\n",
    "    os.makedirs(folder, exist_ok=True)\n",
    "\n",
    "# 각 데이터셋별로 파일들을 그룹화\n",
    "group_path = []\n",
    "for dataset_name in dataset_names:\n",
    "    dataset_files = [path for path in paths if dataset_name in path]\n",
    "    if dataset_files:  # 파일이 있는 경우만 추가\n",
    "        group_path.append(dataset_files)\n",
    "\n",
    "print(f\"Created {len(group_path)} groups:\")\n",
    "for i, group in enumerate(group_path):\n",
    "    dataset_name = dataset_names[i] if i < len(dataset_names) else f\"group_{i}\"\n",
    "    print(f\"  {dataset_name}: {len(group)} files\")"
   ]
  },
  {
   "cell_type": "code",
   "execution_count": 35,
   "metadata": {},
   "outputs": [],
   "source": [
    "trans_matrix = np.array([[1.0, 0.0, 0.0],\n",
    "                        [0.0, 0.0, 1.0],\n",
    "                        [0.0, 1.0, 0.0]])\n",
    "ex_fps = 20\n",
    "\n",
    "def amass_to_pose(src_path, save_path):\n",
    "    bdata = np.load(src_path, allow_pickle=True)\n",
    "    fps = 0\n",
    "    try:\n",
    "        fps = bdata['mocap_framerate']\n",
    "        frame_number = bdata['trans'].shape[0]\n",
    "    except:\n",
    "        #print(list(bdata.keys()))\n",
    "        return fps\n",
    "    \n",
    "    fId = 0 # frame id of the mocap sequence\n",
    "    pose_seq = []\n",
    "    if bdata['gender'] == 'male':\n",
    "        bm = male_bm\n",
    "    else:\n",
    "        bm = female_bm\n",
    "    down_sample = int(fps / ex_fps)\n",
    "    print(frame_number)\n",
    "    print(fps)\n",
    "\n",
    "    # For Downsampling\n",
    "    #bdata_poses = bdata['poses'][::down_sample,...]\n",
    "    #bdata_trans = bdata['trans'][::down_sample,...]\n",
    "    \n",
    "    # For Full Sequence\n",
    "    bdata_poses = bdata['poses']\n",
    "    bdata_trans = bdata['trans']\n",
    "    \n",
    "    body_parms = {\n",
    "            'root_orient': torch.Tensor(bdata_poses[:, :3]).to(comp_device),\n",
    "            'pose_body': torch.Tensor(bdata_poses[:, 3:66]).to(comp_device),\n",
    "            'pose_hand': torch.Tensor(bdata_poses[:, 66:]).to(comp_device),\n",
    "            'trans': torch.Tensor(bdata_trans).to(comp_device),\n",
    "            'betas': torch.Tensor(np.repeat(bdata['betas'][:num_betas][np.newaxis], repeats=len(bdata_trans), axis=0)).to(comp_device),\n",
    "        }\n",
    "    \n",
    "    with torch.no_grad():\n",
    "        body = bm(**body_parms)\n",
    "    pose_seq_np = body.Jtr.detach().cpu().numpy()\n",
    "    pose_seq_np_n = np.dot(pose_seq_np, trans_matrix)\n",
    "    \n",
    "    \n",
    "    np.save(save_path, pose_seq_np_n)\n",
    "    return fps"
   ]
  },
  {
   "cell_type": "code",
   "execution_count": 36,
   "metadata": {},
   "outputs": [],
   "source": [
    "group_path = group_path\n",
    "all_count = sum([len(paths) for paths in group_path])\n",
    "cur_count = 0"
   ]
  },
  {
   "cell_type": "markdown",
   "metadata": {},
   "source": [
    "This will take a few hours for all datasets, here we take one dataset as an example\n",
    "\n",
    "To accelerate the process, you could run multiple scripts like this at one time."
   ]
  },
  {
   "cell_type": "code",
   "execution_count": 37,
   "metadata": {},
   "outputs": [
    {
     "name": "stderr",
     "output_type": "stream",
     "text": [
      "Processing: Dancejj0101.npz:   1%|          | 1/129 [00:00<00:14,  8.83it/s]"
     ]
    },
    {
     "name": "stdout",
     "output_type": "stream",
     "text": [
      "200\n",
      "120.0\n",
      "200\n",
      "120.0\n"
     ]
    },
    {
     "name": "stderr",
     "output_type": "stream",
     "text": [
      "Processing: Dancejj0101.npz:   2%|▏         | 3/129 [00:00<00:14,  8.74it/s]"
     ]
    },
    {
     "name": "stdout",
     "output_type": "stream",
     "text": [
      "200\n",
      "120.0\n",
      "200\n",
      "120.0\n"
     ]
    },
    {
     "name": "stderr",
     "output_type": "stream",
     "text": [
      "Processing: Dancejj0101.npz:   4%|▍         | 5/129 [00:00<00:14,  8.62it/s]"
     ]
    },
    {
     "name": "stdout",
     "output_type": "stream",
     "text": [
      "200\n",
      "120.0\n",
      "200\n",
      "120.0\n"
     ]
    },
    {
     "name": "stderr",
     "output_type": "stream",
     "text": [
      "Processing: Dancejj0101.npz:   5%|▌         | 7/129 [00:00<00:14,  8.62it/s]"
     ]
    },
    {
     "name": "stdout",
     "output_type": "stream",
     "text": [
      "200\n",
      "120.0\n",
      "200\n",
      "120.0\n"
     ]
    },
    {
     "name": "stderr",
     "output_type": "stream",
     "text": [
      "Processing: Dancejj0101.npz:   7%|▋         | 9/129 [00:01<00:13,  8.57it/s]"
     ]
    },
    {
     "name": "stdout",
     "output_type": "stream",
     "text": [
      "200\n",
      "120.0\n",
      "200\n",
      "120.0\n"
     ]
    },
    {
     "name": "stderr",
     "output_type": "stream",
     "text": [
      "Processing: Dancejj0101.npz:   9%|▊         | 11/129 [00:01<00:14,  8.42it/s]"
     ]
    },
    {
     "name": "stdout",
     "output_type": "stream",
     "text": [
      "200\n",
      "120.0\n",
      "200\n",
      "120.0\n"
     ]
    },
    {
     "name": "stderr",
     "output_type": "stream",
     "text": [
      "Processing: Dancejj0101.npz:  10%|█         | 13/129 [00:01<00:13,  8.39it/s]"
     ]
    },
    {
     "name": "stdout",
     "output_type": "stream",
     "text": [
      "200\n",
      "120.0\n",
      "200\n",
      "120.0\n"
     ]
    },
    {
     "name": "stderr",
     "output_type": "stream",
     "text": [
      "Processing: Dancejj0101.npz:  12%|█▏        | 15/129 [00:01<00:13,  8.44it/s]"
     ]
    },
    {
     "name": "stdout",
     "output_type": "stream",
     "text": [
      "200\n",
      "120.0\n",
      "200\n",
      "120.0\n"
     ]
    },
    {
     "name": "stderr",
     "output_type": "stream",
     "text": [
      "Processing: Dancejj0101.npz:  13%|█▎        | 17/129 [00:02<00:13,  8.42it/s]"
     ]
    },
    {
     "name": "stdout",
     "output_type": "stream",
     "text": [
      "200\n",
      "120.0\n",
      "200\n",
      "120.0\n"
     ]
    },
    {
     "name": "stderr",
     "output_type": "stream",
     "text": [
      "Processing: Dancejj0101.npz:  15%|█▍        | 19/129 [00:02<00:12,  8.49it/s]"
     ]
    },
    {
     "name": "stdout",
     "output_type": "stream",
     "text": [
      "200\n",
      "120.0\n",
      "200\n",
      "120.0\n"
     ]
    },
    {
     "name": "stderr",
     "output_type": "stream",
     "text": [
      "Processing: Dancejj0101.npz:  16%|█▋        | 21/129 [00:02<00:13,  8.23it/s]"
     ]
    },
    {
     "name": "stdout",
     "output_type": "stream",
     "text": [
      "200\n",
      "120.0\n",
      "200\n",
      "120.0\n"
     ]
    },
    {
     "name": "stderr",
     "output_type": "stream",
     "text": [
      "Processing: Dancejj0101.npz:  18%|█▊        | 23/129 [00:02<00:15,  7.03it/s]"
     ]
    },
    {
     "name": "stdout",
     "output_type": "stream",
     "text": [
      "200\n",
      "120.0\n",
      "200\n",
      "120.0\n"
     ]
    },
    {
     "name": "stderr",
     "output_type": "stream",
     "text": [
      "Processing: Dancejj0101.npz:  19%|█▉        | 25/129 [00:03<00:14,  7.33it/s]"
     ]
    },
    {
     "name": "stdout",
     "output_type": "stream",
     "text": [
      "200\n",
      "120.0\n",
      "200\n",
      "120.0\n"
     ]
    },
    {
     "name": "stderr",
     "output_type": "stream",
     "text": [
      "Processing: Dancejj0101.npz:  21%|██        | 27/129 [00:03<00:13,  7.83it/s]"
     ]
    },
    {
     "name": "stdout",
     "output_type": "stream",
     "text": [
      "200\n",
      "120.0\n",
      "200\n",
      "120.0\n"
     ]
    },
    {
     "name": "stderr",
     "output_type": "stream",
     "text": [
      "Processing: Dancejj0101.npz:  22%|██▏       | 29/129 [00:03<00:12,  8.18it/s]"
     ]
    },
    {
     "name": "stdout",
     "output_type": "stream",
     "text": [
      "200\n",
      "120.0\n",
      "200\n",
      "120.0\n"
     ]
    },
    {
     "name": "stderr",
     "output_type": "stream",
     "text": [
      "Processing: Dancejj0101.npz:  24%|██▍       | 31/129 [00:03<00:11,  8.30it/s]"
     ]
    },
    {
     "name": "stdout",
     "output_type": "stream",
     "text": [
      "200\n",
      "120.0\n",
      "200\n",
      "120.0\n"
     ]
    },
    {
     "name": "stderr",
     "output_type": "stream",
     "text": [
      "Processing: Dancejj0101.npz:  26%|██▌       | 33/129 [00:04<00:12,  7.54it/s]"
     ]
    },
    {
     "name": "stdout",
     "output_type": "stream",
     "text": [
      "200\n",
      "120.0\n",
      "200\n",
      "120.0\n"
     ]
    },
    {
     "name": "stderr",
     "output_type": "stream",
     "text": [
      "Processing: Dancejj0101.npz:  27%|██▋       | 35/129 [00:04<00:12,  7.65it/s]"
     ]
    },
    {
     "name": "stdout",
     "output_type": "stream",
     "text": [
      "200\n",
      "120.0\n",
      "200\n",
      "120.0\n"
     ]
    },
    {
     "name": "stderr",
     "output_type": "stream",
     "text": [
      "Processing: Dancejj0101.npz:  29%|██▊       | 37/129 [00:04<00:11,  8.16it/s]"
     ]
    },
    {
     "name": "stdout",
     "output_type": "stream",
     "text": [
      "200\n",
      "120.0\n",
      "200\n",
      "120.0\n"
     ]
    },
    {
     "name": "stderr",
     "output_type": "stream",
     "text": [
      "Processing: Dancejj0101.npz:  30%|███       | 39/129 [00:04<00:11,  8.17it/s]"
     ]
    },
    {
     "name": "stdout",
     "output_type": "stream",
     "text": [
      "200\n",
      "120.0\n",
      "200\n",
      "120.0\n"
     ]
    },
    {
     "name": "stderr",
     "output_type": "stream",
     "text": [
      "Processing: Dancejj0101.npz:  32%|███▏      | 41/129 [00:05<00:10,  8.37it/s]"
     ]
    },
    {
     "name": "stdout",
     "output_type": "stream",
     "text": [
      "200\n",
      "120.0\n",
      "200\n",
      "120.0\n"
     ]
    },
    {
     "name": "stderr",
     "output_type": "stream",
     "text": [
      "Processing: Dancejj0101.npz:  33%|███▎      | 43/129 [00:05<00:11,  7.31it/s]"
     ]
    },
    {
     "name": "stdout",
     "output_type": "stream",
     "text": [
      "200\n",
      "120.0\n",
      "200\n",
      "120.0\n"
     ]
    },
    {
     "name": "stderr",
     "output_type": "stream",
     "text": [
      "Processing: Dancejj0101.npz:  35%|███▍      | 45/129 [00:05<00:10,  7.77it/s]"
     ]
    },
    {
     "name": "stdout",
     "output_type": "stream",
     "text": [
      "200\n",
      "120.0\n",
      "200\n",
      "120.0\n"
     ]
    },
    {
     "name": "stderr",
     "output_type": "stream",
     "text": [
      "Processing: Dancejj0101.npz:  36%|███▋      | 47/129 [00:05<00:10,  8.09it/s]"
     ]
    },
    {
     "name": "stdout",
     "output_type": "stream",
     "text": [
      "200\n",
      "120.0\n",
      "200\n",
      "120.0\n"
     ]
    },
    {
     "name": "stderr",
     "output_type": "stream",
     "text": [
      "Processing: Dancejj0101.npz:  38%|███▊      | 49/129 [00:06<00:09,  8.27it/s]"
     ]
    },
    {
     "name": "stdout",
     "output_type": "stream",
     "text": [
      "200\n",
      "120.0\n",
      "200\n",
      "120.0\n"
     ]
    },
    {
     "name": "stderr",
     "output_type": "stream",
     "text": [
      "Processing: Dancejj0101.npz:  40%|███▉      | 51/129 [00:06<00:09,  7.96it/s]"
     ]
    },
    {
     "name": "stdout",
     "output_type": "stream",
     "text": [
      "200\n",
      "120.0\n",
      "200\n",
      "120.0\n"
     ]
    },
    {
     "name": "stderr",
     "output_type": "stream",
     "text": [
      "Processing: Dancejj0101.npz:  41%|████      | 53/129 [00:06<00:09,  8.03it/s]"
     ]
    },
    {
     "name": "stdout",
     "output_type": "stream",
     "text": [
      "200\n",
      "120.0\n",
      "200\n",
      "120.0\n"
     ]
    },
    {
     "name": "stderr",
     "output_type": "stream",
     "text": [
      "Processing: Dancejj0101.npz:  43%|████▎     | 55/129 [00:06<00:09,  7.51it/s]"
     ]
    },
    {
     "name": "stdout",
     "output_type": "stream",
     "text": [
      "200\n",
      "120.0\n",
      "200\n",
      "120.0\n"
     ]
    },
    {
     "name": "stderr",
     "output_type": "stream",
     "text": [
      "Processing: Dancejj0101.npz:  44%|████▍     | 57/129 [00:07<00:09,  7.75it/s]"
     ]
    },
    {
     "name": "stdout",
     "output_type": "stream",
     "text": [
      "200\n",
      "120.0\n",
      "200\n",
      "120.0\n"
     ]
    },
    {
     "name": "stderr",
     "output_type": "stream",
     "text": [
      "Processing: Dancejj0101.npz:  46%|████▌     | 59/129 [00:07<00:08,  7.85it/s]"
     ]
    },
    {
     "name": "stdout",
     "output_type": "stream",
     "text": [
      "200\n",
      "120.0\n",
      "200\n",
      "120.0\n"
     ]
    },
    {
     "name": "stderr",
     "output_type": "stream",
     "text": [
      "Processing: Dancejj0101.npz:  47%|████▋     | 61/129 [00:07<00:08,  7.57it/s]"
     ]
    },
    {
     "name": "stdout",
     "output_type": "stream",
     "text": [
      "200\n",
      "120.0\n",
      "200\n",
      "120.0\n"
     ]
    },
    {
     "name": "stderr",
     "output_type": "stream",
     "text": [
      "Processing: Dancejj0101.npz:  49%|████▉     | 63/129 [00:07<00:09,  7.29it/s]"
     ]
    },
    {
     "name": "stdout",
     "output_type": "stream",
     "text": [
      "200\n",
      "120.0\n",
      "200\n",
      "120.0\n"
     ]
    },
    {
     "name": "stderr",
     "output_type": "stream",
     "text": [
      "Processing: Dancejj0101.npz:  50%|█████     | 65/129 [00:08<00:08,  7.79it/s]"
     ]
    },
    {
     "name": "stdout",
     "output_type": "stream",
     "text": [
      "200\n",
      "120.0\n",
      "200\n",
      "120.0\n"
     ]
    },
    {
     "name": "stderr",
     "output_type": "stream",
     "text": [
      "Processing: Dancejj0101.npz:  52%|█████▏    | 67/129 [00:08<00:08,  7.22it/s]"
     ]
    },
    {
     "name": "stdout",
     "output_type": "stream",
     "text": [
      "200\n",
      "120.0\n",
      "200\n",
      "120.0\n"
     ]
    },
    {
     "name": "stderr",
     "output_type": "stream",
     "text": [
      "Processing: Dancejj0101.npz:  53%|█████▎    | 69/129 [00:08<00:08,  7.42it/s]"
     ]
    },
    {
     "name": "stdout",
     "output_type": "stream",
     "text": [
      "200\n",
      "120.0\n",
      "200\n",
      "120.0\n"
     ]
    },
    {
     "name": "stderr",
     "output_type": "stream",
     "text": [
      "Processing: Dancejj0101.npz:  55%|█████▌    | 71/129 [00:08<00:07,  7.66it/s]"
     ]
    },
    {
     "name": "stdout",
     "output_type": "stream",
     "text": [
      "200\n",
      "120.0\n",
      "200\n",
      "120.0\n"
     ]
    },
    {
     "name": "stderr",
     "output_type": "stream",
     "text": [
      "Processing: Dancejj0101.npz:  57%|█████▋    | 73/129 [00:09<00:07,  7.53it/s]"
     ]
    },
    {
     "name": "stdout",
     "output_type": "stream",
     "text": [
      "200\n",
      "120.0\n",
      "200\n",
      "120.0\n"
     ]
    },
    {
     "name": "stderr",
     "output_type": "stream",
     "text": [
      "Processing: Dancejj0101.npz:  58%|█████▊    | 75/129 [00:09<00:07,  7.70it/s]"
     ]
    },
    {
     "name": "stdout",
     "output_type": "stream",
     "text": [
      "200\n",
      "120.0\n",
      "200\n",
      "120.0\n"
     ]
    },
    {
     "name": "stderr",
     "output_type": "stream",
     "text": [
      "Processing: Dancejj0101.npz:  60%|█████▉    | 77/129 [00:09<00:06,  7.65it/s]"
     ]
    },
    {
     "name": "stdout",
     "output_type": "stream",
     "text": [
      "200\n",
      "120.0\n",
      "200\n",
      "120.0\n"
     ]
    },
    {
     "name": "stderr",
     "output_type": "stream",
     "text": [
      "Processing: Dancejj0101.npz:  61%|██████    | 79/129 [00:09<00:06,  7.82it/s]"
     ]
    },
    {
     "name": "stdout",
     "output_type": "stream",
     "text": [
      "200\n",
      "120.0\n",
      "200\n",
      "120.0\n"
     ]
    },
    {
     "name": "stderr",
     "output_type": "stream",
     "text": [
      "Processing: Dancejj0101.npz:  63%|██████▎   | 81/129 [00:10<00:06,  7.95it/s]"
     ]
    },
    {
     "name": "stdout",
     "output_type": "stream",
     "text": [
      "200\n",
      "120.0\n",
      "200\n",
      "120.0\n"
     ]
    },
    {
     "name": "stderr",
     "output_type": "stream",
     "text": [
      "Processing: Dancejj0101.npz:  64%|██████▍   | 83/129 [00:10<00:05,  8.11it/s]"
     ]
    },
    {
     "name": "stdout",
     "output_type": "stream",
     "text": [
      "200\n",
      "120.0\n",
      "200\n",
      "120.0\n"
     ]
    },
    {
     "name": "stderr",
     "output_type": "stream",
     "text": [
      "Processing: Dancejj0101.npz:  66%|██████▌   | 85/129 [00:10<00:05,  8.22it/s]"
     ]
    },
    {
     "name": "stdout",
     "output_type": "stream",
     "text": [
      "200\n",
      "120.0\n",
      "200\n",
      "120.0\n"
     ]
    },
    {
     "name": "stderr",
     "output_type": "stream",
     "text": [
      "Processing: Dancejj0101.npz:  67%|██████▋   | 87/129 [00:10<00:05,  8.13it/s]"
     ]
    },
    {
     "name": "stdout",
     "output_type": "stream",
     "text": [
      "200\n",
      "120.0\n",
      "200\n",
      "120.0\n"
     ]
    },
    {
     "name": "stderr",
     "output_type": "stream",
     "text": [
      "Processing: Dancejj0101.npz:  69%|██████▉   | 89/129 [00:11<00:05,  6.98it/s]"
     ]
    },
    {
     "name": "stdout",
     "output_type": "stream",
     "text": [
      "200\n",
      "120.0\n",
      "200\n",
      "120.0\n"
     ]
    },
    {
     "name": "stderr",
     "output_type": "stream",
     "text": [
      "Processing: Dancejj0101.npz:  71%|███████   | 91/129 [00:11<00:06,  6.30it/s]"
     ]
    },
    {
     "name": "stdout",
     "output_type": "stream",
     "text": [
      "200\n",
      "120.0\n"
     ]
    },
    {
     "name": "stderr",
     "output_type": "stream",
     "text": [
      "Processing: Dancejj0101.npz:  71%|███████▏  | 92/129 [00:11<00:05,  6.77it/s]"
     ]
    },
    {
     "name": "stdout",
     "output_type": "stream",
     "text": [
      "200\n",
      "120.0\n",
      "200\n",
      "120.0\n"
     ]
    },
    {
     "name": "stderr",
     "output_type": "stream",
     "text": [
      "Processing: Dancejj0101.npz:  73%|███████▎  | 94/129 [00:12<00:04,  7.29it/s]"
     ]
    },
    {
     "name": "stdout",
     "output_type": "stream",
     "text": [
      "200\n",
      "120.0\n",
      "200\n",
      "120.0\n"
     ]
    },
    {
     "name": "stderr",
     "output_type": "stream",
     "text": [
      "Processing: Dancejj0101.npz:  74%|███████▍  | 96/129 [00:12<00:04,  7.62it/s]"
     ]
    },
    {
     "name": "stdout",
     "output_type": "stream",
     "text": [
      "200\n",
      "120.0\n",
      "200\n",
      "120.0\n"
     ]
    },
    {
     "name": "stderr",
     "output_type": "stream",
     "text": [
      "Processing: Dancejj0101.npz:  76%|███████▌  | 98/129 [00:12<00:04,  7.41it/s]"
     ]
    },
    {
     "name": "stdout",
     "output_type": "stream",
     "text": [
      "200\n",
      "120.0\n",
      "200\n",
      "120.0\n"
     ]
    },
    {
     "name": "stderr",
     "output_type": "stream",
     "text": [
      "Processing: Dancejj0101.npz:  78%|███████▊  | 100/129 [00:12<00:03,  7.59it/s]"
     ]
    },
    {
     "name": "stdout",
     "output_type": "stream",
     "text": [
      "200\n",
      "120.0\n",
      "200\n",
      "120.0\n"
     ]
    },
    {
     "name": "stderr",
     "output_type": "stream",
     "text": [
      "Processing: Dancejj0101.npz:  79%|███████▉  | 102/129 [00:13<00:04,  6.56it/s]"
     ]
    },
    {
     "name": "stdout",
     "output_type": "stream",
     "text": [
      "200\n",
      "120.0\n"
     ]
    },
    {
     "name": "stderr",
     "output_type": "stream",
     "text": [
      "Processing: Dancejj0101.npz:  80%|███████▉  | 103/129 [00:13<00:03,  6.88it/s]"
     ]
    },
    {
     "name": "stdout",
     "output_type": "stream",
     "text": [
      "200\n",
      "120.0\n",
      "200\n",
      "120.0\n"
     ]
    },
    {
     "name": "stderr",
     "output_type": "stream",
     "text": [
      "Processing: Dancejj0101.npz:  81%|████████▏ | 105/129 [00:13<00:03,  7.55it/s]"
     ]
    },
    {
     "name": "stdout",
     "output_type": "stream",
     "text": [
      "200\n",
      "120.0\n",
      "200\n",
      "120.0\n"
     ]
    },
    {
     "name": "stderr",
     "output_type": "stream",
     "text": [
      "Processing: Dancejj0101.npz:  83%|████████▎ | 107/129 [00:13<00:02,  7.52it/s]"
     ]
    },
    {
     "name": "stdout",
     "output_type": "stream",
     "text": [
      "200\n",
      "120.0\n",
      "200\n",
      "120.0\n"
     ]
    },
    {
     "name": "stderr",
     "output_type": "stream",
     "text": [
      "Processing: Dancejj0101.npz:  84%|████████▍ | 109/129 [00:14<00:02,  7.66it/s]"
     ]
    },
    {
     "name": "stdout",
     "output_type": "stream",
     "text": [
      "200\n",
      "120.0\n",
      "200\n",
      "120.0\n"
     ]
    },
    {
     "name": "stderr",
     "output_type": "stream",
     "text": [
      "Processing: Dancejj0101.npz:  86%|████████▌ | 111/129 [00:14<00:02,  7.36it/s]"
     ]
    },
    {
     "name": "stdout",
     "output_type": "stream",
     "text": [
      "200\n",
      "120.0\n",
      "200\n",
      "120.0\n"
     ]
    },
    {
     "name": "stderr",
     "output_type": "stream",
     "text": [
      "Processing: Dancejj0101.npz:  88%|████████▊ | 113/129 [00:14<00:02,  7.91it/s]"
     ]
    },
    {
     "name": "stdout",
     "output_type": "stream",
     "text": [
      "200\n",
      "120.0\n",
      "200\n",
      "120.0\n"
     ]
    },
    {
     "name": "stderr",
     "output_type": "stream",
     "text": [
      "Processing: Dancejj0101.npz:  89%|████████▉ | 115/129 [00:14<00:01,  8.19it/s]"
     ]
    },
    {
     "name": "stdout",
     "output_type": "stream",
     "text": [
      "200\n",
      "120.0\n",
      "200\n",
      "120.0\n"
     ]
    },
    {
     "name": "stderr",
     "output_type": "stream",
     "text": [
      "Processing: Dancejj0101.npz:  91%|█████████ | 117/129 [00:15<00:01,  8.01it/s]"
     ]
    },
    {
     "name": "stdout",
     "output_type": "stream",
     "text": [
      "200\n",
      "120.0\n",
      "200\n",
      "120.0\n"
     ]
    },
    {
     "name": "stderr",
     "output_type": "stream",
     "text": [
      "Processing: Dancejj0101.npz:  92%|█████████▏| 119/129 [00:15<00:01,  7.97it/s]"
     ]
    },
    {
     "name": "stdout",
     "output_type": "stream",
     "text": [
      "200\n",
      "120.0\n",
      "200\n",
      "120.0\n"
     ]
    },
    {
     "name": "stderr",
     "output_type": "stream",
     "text": [
      "Processing: Dancejj0101.npz:  94%|█████████▍| 121/129 [00:15<00:00,  8.23it/s]"
     ]
    },
    {
     "name": "stdout",
     "output_type": "stream",
     "text": [
      "200\n",
      "120.0\n",
      "200\n",
      "120.0\n"
     ]
    },
    {
     "name": "stderr",
     "output_type": "stream",
     "text": [
      "Processing: Dancejj0101.npz:  95%|█████████▌| 123/129 [00:15<00:00,  8.28it/s]"
     ]
    },
    {
     "name": "stdout",
     "output_type": "stream",
     "text": [
      "200\n",
      "120.0\n",
      "200\n",
      "120.0\n"
     ]
    },
    {
     "name": "stderr",
     "output_type": "stream",
     "text": [
      "Processing: Dancejj0101.npz:  97%|█████████▋| 125/129 [00:16<00:00,  7.92it/s]"
     ]
    },
    {
     "name": "stdout",
     "output_type": "stream",
     "text": [
      "200\n",
      "120.0\n",
      "200\n",
      "120.0\n"
     ]
    },
    {
     "name": "stderr",
     "output_type": "stream",
     "text": [
      "Processing: Dancejj0101.npz:  98%|█████████▊| 127/129 [00:16<00:00,  7.89it/s]"
     ]
    },
    {
     "name": "stdout",
     "output_type": "stream",
     "text": [
      "200\n",
      "120.0\n",
      "200\n",
      "120.0\n"
     ]
    },
    {
     "name": "stderr",
     "output_type": "stream",
     "text": [
      "Processing: Dancejj0101.npz: 100%|██████████| 129/129 [00:16<00:00,  7.80it/s]\n"
     ]
    },
    {
     "name": "stdout",
     "output_type": "stream",
     "text": [
      "200\n",
      "120.0\n",
      "Processed / All (fps 120): 129/129\n"
     ]
    }
   ],
   "source": [
    "import time\n",
    "for paths in group_path:\n",
    "    # Windows 호환 경로 분리\n",
    "    dataset_name = Path(paths[0]).parts[2] if len(Path(paths[0]).parts) > 2 else \"unknown\"\n",
    "    pbar = tqdm(paths)\n",
    "    pbar.set_description('Processing: %s'%dataset_name)\n",
    "    fps = 0\n",
    "    for path in pbar:\n",
    "        save_path = path.replace('./amass_data', './pose_data')\n",
    "        save_path = save_path[:-3] + 'npy'\n",
    "        fps = amass_to_pose(path, save_path)\n",
    "        \n",
    "    cur_count += len(paths)\n",
    "    print('Processed / All (fps %d): %d/%d'% (fps, cur_count, all_count) )\n",
    "    time.sleep(0.5)"
   ]
  },
  {
   "cell_type": "markdown",
   "metadata": {},
   "source": [
    "## Segment, Mirror and Relocate Motions에 사용할 index.csv 생성"
   ]
  },
  {
   "cell_type": "code",
   "execution_count": 38,
   "metadata": {},
   "outputs": [
    {
     "name": "stdout",
     "output_type": "stream",
     "text": [
      "Added: ./pose_data/csvtonpz/Dancejj0101.npy (frames: 200)\n",
      "Added: ./pose_data/csvtonpz/Dancejj0102.npy (frames: 200)\n",
      "Added: ./pose_data/csvtonpz/Dancejj0103.npy (frames: 200)\n",
      "Added: ./pose_data/csvtonpz/Dancejj0201.npy (frames: 200)\n",
      "Added: ./pose_data/csvtonpz/Dancejj0202.npy (frames: 200)\n",
      "Added: ./pose_data/csvtonpz/Dancejj0203.npy (frames: 200)\n",
      "Added: ./pose_data/csvtonpz/Dancejj0301.npy (frames: 200)\n",
      "Added: ./pose_data/csvtonpz/Dancejj0302.npy (frames: 200)\n",
      "Added: ./pose_data/csvtonpz/Dancejj0303.npy (frames: 200)\n",
      "Added: ./pose_data/csvtonpz/Dancejj0401.npy (frames: 200)\n",
      "Added: ./pose_data/csvtonpz/Dancejj0402.npy (frames: 200)\n",
      "Added: ./pose_data/csvtonpz/Dancejj0403.npy (frames: 200)\n",
      "Added: ./pose_data/csvtonpz/Dancejj0501.npy (frames: 200)\n",
      "Added: ./pose_data/csvtonpz/Dancejj0502.npy (frames: 200)\n",
      "Added: ./pose_data/csvtonpz/Dancejj0503.npy (frames: 200)\n",
      "Added: ./pose_data/csvtonpz/Dancejj0601.npy (frames: 200)\n",
      "Added: ./pose_data/csvtonpz/Dancejj0602.npy (frames: 200)\n",
      "Added: ./pose_data/csvtonpz/Dancejj0603.npy (frames: 200)\n",
      "Added: ./pose_data/csvtonpz/Dancejj0701.npy (frames: 200)\n",
      "Added: ./pose_data/csvtonpz/Dancejj0702.npy (frames: 200)\n",
      "Added: ./pose_data/csvtonpz/Dancejj0703.npy (frames: 200)\n",
      "Added: ./pose_data/csvtonpz/Dancejj0801.npy (frames: 200)\n",
      "Added: ./pose_data/csvtonpz/Dancejj0802.npy (frames: 200)\n",
      "Added: ./pose_data/csvtonpz/Dancejj0803.npy (frames: 200)\n",
      "Added: ./pose_data/csvtonpz/Dancejj0901.npy (frames: 200)\n",
      "Added: ./pose_data/csvtonpz/Dancejj0902.npy (frames: 200)\n",
      "Added: ./pose_data/csvtonpz/Dancejj0903.npy (frames: 200)\n",
      "Added: ./pose_data/csvtonpz/Dancejj1001.npy (frames: 200)\n",
      "Added: ./pose_data/csvtonpz/Dancejj1101.npy (frames: 200)\n",
      "Added: ./pose_data/csvtonpz/Dancejj1201.npy (frames: 200)\n",
      "Added: ./pose_data/csvtonpz/Dancejj1301.npy (frames: 200)\n",
      "Added: ./pose_data/csvtonpz/Dancejj1401.npy (frames: 200)\n",
      "Added: ./pose_data/csvtonpz/Dancejj1501.npy (frames: 200)\n",
      "Added: ./pose_data/csvtonpz/Dancejj1601.npy (frames: 200)\n",
      "Added: ./pose_data/csvtonpz/Dancejj_shuffle01.npy (frames: 200)\n",
      "Added: ./pose_data/csvtonpz/Dancejj_spongebob01.npy (frames: 200)\n",
      "Added: ./pose_data/csvtonpz/Dancejy0101.npy (frames: 200)\n",
      "Added: ./pose_data/csvtonpz/Dancejy0102.npy (frames: 200)\n",
      "Added: ./pose_data/csvtonpz/Dancejy0103.npy (frames: 200)\n",
      "Added: ./pose_data/csvtonpz/Dancejy0201.npy (frames: 200)\n",
      "Added: ./pose_data/csvtonpz/Dancejy0202.npy (frames: 200)\n",
      "Added: ./pose_data/csvtonpz/Dancejy0203.npy (frames: 200)\n",
      "Added: ./pose_data/csvtonpz/Dancejy0301.npy (frames: 200)\n",
      "Added: ./pose_data/csvtonpz/Dancejy0302.npy (frames: 200)\n",
      "Added: ./pose_data/csvtonpz/Dancejy0303.npy (frames: 200)\n",
      "Added: ./pose_data/csvtonpz/Dancejy0401.npy (frames: 200)\n",
      "Added: ./pose_data/csvtonpz/Dancejy0402.npy (frames: 200)\n",
      "Added: ./pose_data/csvtonpz/Dancejy0403.npy (frames: 200)\n",
      "Added: ./pose_data/csvtonpz/Dancejy0501.npy (frames: 200)\n",
      "Added: ./pose_data/csvtonpz/Dancejy0502.npy (frames: 200)\n",
      "Added: ./pose_data/csvtonpz/Dancejy0503.npy (frames: 200)\n",
      "Added: ./pose_data/csvtonpz/Dancejy0601.npy (frames: 200)\n",
      "Added: ./pose_data/csvtonpz/Dancejy0602.npy (frames: 200)\n",
      "Added: ./pose_data/csvtonpz/Dancejy0603.npy (frames: 200)\n",
      "Added: ./pose_data/csvtonpz/Dancejy0701.npy (frames: 200)\n",
      "Added: ./pose_data/csvtonpz/Dancejy0702.npy (frames: 200)\n",
      "Added: ./pose_data/csvtonpz/Dancejy0703.npy (frames: 200)\n",
      "Added: ./pose_data/csvtonpz/Dancejy0801.npy (frames: 200)\n",
      "Added: ./pose_data/csvtonpz/Dancejy0802.npy (frames: 200)\n",
      "Added: ./pose_data/csvtonpz/Dancejy0803.npy (frames: 200)\n",
      "Added: ./pose_data/csvtonpz/Dancejy0901.npy (frames: 200)\n",
      "Added: ./pose_data/csvtonpz/Dancejy0902.npy (frames: 200)\n",
      "Added: ./pose_data/csvtonpz/Dancejy0903.npy (frames: 200)\n",
      "Added: ./pose_data/csvtonpz/Dancejy1001.npy (frames: 200)\n",
      "Added: ./pose_data/csvtonpz/Dancejy1101.npy (frames: 200)\n",
      "Added: ./pose_data/csvtonpz/Dancejy1201.npy (frames: 200)\n",
      "Added: ./pose_data/csvtonpz/Dancejy1301.npy (frames: 200)\n",
      "Added: ./pose_data/csvtonpz/Dancejy1401.npy (frames: 200)\n",
      "Added: ./pose_data/csvtonpz/Dancejy_shuffle01.npy (frames: 200)\n",
      "Added: ./pose_data/csvtonpz/Dancejy_spongebob0101.npy (frames: 200)\n",
      "Added: ./pose_data/csvtonpz/Dancejy_spongebob0102.npy (frames: 200)\n",
      "Added: ./pose_data/csvtonpz/Dancejy_spongebob0103.npy (frames: 200)\n",
      "Added: ./pose_data/csvtonpz/Dancejy_spongebob0201.npy (frames: 200)\n",
      "Added: ./pose_data/csvtonpz/Dancejy_spongebob0202.npy (frames: 200)\n",
      "Added: ./pose_data/csvtonpz/Dancejy_spongebob0203.npy (frames: 200)\n",
      "Added: ./pose_data/csvtonpz/Dancewj0101.npy (frames: 200)\n",
      "Added: ./pose_data/csvtonpz/Dancewj0102.npy (frames: 200)\n",
      "Added: ./pose_data/csvtonpz/Dancewj0103.npy (frames: 200)\n",
      "Added: ./pose_data/csvtonpz/Dancewj0201.npy (frames: 200)\n",
      "Added: ./pose_data/csvtonpz/Dancewj0202.npy (frames: 200)\n",
      "Added: ./pose_data/csvtonpz/Dancewj0203.npy (frames: 200)\n",
      "Added: ./pose_data/csvtonpz/Dancewj0301.npy (frames: 200)\n",
      "Added: ./pose_data/csvtonpz/Dancewj0302.npy (frames: 200)\n",
      "Added: ./pose_data/csvtonpz/Dancewj0303.npy (frames: 200)\n",
      "Added: ./pose_data/csvtonpz/Dancewj0401.npy (frames: 200)\n",
      "Added: ./pose_data/csvtonpz/Dancewj0402.npy (frames: 200)\n",
      "Added: ./pose_data/csvtonpz/Dancewj0403.npy (frames: 200)\n",
      "Added: ./pose_data/csvtonpz/Dancewj0501.npy (frames: 200)\n",
      "Added: ./pose_data/csvtonpz/Dancewj0502.npy (frames: 200)\n",
      "Added: ./pose_data/csvtonpz/Dancewj0503.npy (frames: 200)\n",
      "Added: ./pose_data/csvtonpz/Dancewj0601.npy (frames: 200)\n",
      "Added: ./pose_data/csvtonpz/Dancewj0602.npy (frames: 200)\n",
      "Added: ./pose_data/csvtonpz/Dancewj0603.npy (frames: 200)\n",
      "Added: ./pose_data/csvtonpz/Dancewj0701.npy (frames: 200)\n",
      "Added: ./pose_data/csvtonpz/Dancewj0702.npy (frames: 200)\n",
      "Added: ./pose_data/csvtonpz/Dancewj0703.npy (frames: 200)\n",
      "Added: ./pose_data/csvtonpz/Dancewj0801.npy (frames: 200)\n",
      "Added: ./pose_data/csvtonpz/Dancewj0802.npy (frames: 200)\n",
      "Added: ./pose_data/csvtonpz/Dancewj0803.npy (frames: 200)\n",
      "Added: ./pose_data/csvtonpz/Dancewj0901.npy (frames: 200)\n",
      "Added: ./pose_data/csvtonpz/Dancewj0902.npy (frames: 200)\n",
      "Added: ./pose_data/csvtonpz/Dancewj0903.npy (frames: 200)\n",
      "Added: ./pose_data/csvtonpz/Dancewj1001.npy (frames: 200)\n",
      "Added: ./pose_data/csvtonpz/Dancewj1002.npy (frames: 200)\n",
      "Added: ./pose_data/csvtonpz/Dancewj1003.npy (frames: 200)\n",
      "Added: ./pose_data/csvtonpz/Dancewj1101.npy (frames: 200)\n",
      "Added: ./pose_data/csvtonpz/Dancewj1102.npy (frames: 200)\n",
      "Added: ./pose_data/csvtonpz/Dancewj1103.npy (frames: 200)\n",
      "Added: ./pose_data/csvtonpz/Dancewj1201.npy (frames: 200)\n",
      "Added: ./pose_data/csvtonpz/Dancewj1202.npy (frames: 200)\n",
      "Added: ./pose_data/csvtonpz/Dancewj1203.npy (frames: 200)\n",
      "Added: ./pose_data/csvtonpz/Dancewj1301.npy (frames: 200)\n",
      "Added: ./pose_data/csvtonpz/Dancewj1302.npy (frames: 200)\n",
      "Added: ./pose_data/csvtonpz/Dancewj1303.npy (frames: 200)\n",
      "Added: ./pose_data/csvtonpz/Dancewj1401.npy (frames: 200)\n",
      "Added: ./pose_data/csvtonpz/Dancewj1402.npy (frames: 200)\n",
      "Added: ./pose_data/csvtonpz/Dancewj1403.npy (frames: 200)\n",
      "Added: ./pose_data/csvtonpz/Dancewj1501.npy (frames: 200)\n",
      "Added: ./pose_data/csvtonpz/Dancewj1502.npy (frames: 200)\n",
      "Added: ./pose_data/csvtonpz/Dancewj1503.npy (frames: 200)\n",
      "Added: ./pose_data/csvtonpz/Dancewj1601.npy (frames: 200)\n",
      "Added: ./pose_data/csvtonpz/Dancewj1602.npy (frames: 200)\n",
      "Added: ./pose_data/csvtonpz/Dancewj1603.npy (frames: 200)\n",
      "Added: ./pose_data/csvtonpz/Dancewj_shuffle01.npy (frames: 200)\n",
      "Added: ./pose_data/csvtonpz/Dancewj_shuffle02.npy (frames: 200)\n",
      "Added: ./pose_data/csvtonpz/Dancewj_shuffle03.npy (frames: 200)\n",
      "Added: ./pose_data/csvtonpz/Dancewj_spongebob01.npy (frames: 200)\n",
      "Added: ./pose_data/csvtonpz/Dancewj_spongebob02.npy (frames: 200)\n",
      "Added: ./pose_data/csvtonpz/Dancewj_spongebob03.npy (frames: 200)\n",
      "\n",
      "Index CSV created: ./index_test.csv\n",
      "Total files processed: 129\n",
      "\n",
      "First 10 entries:\n",
      "                            source_path  start_frame  end_frame  \\\n",
      "0  ./pose_data/csvtonpz/Dancejj0101.npy            0        200   \n",
      "1  ./pose_data/csvtonpz/Dancejj0102.npy            0        200   \n",
      "2  ./pose_data/csvtonpz/Dancejj0103.npy            0        200   \n",
      "3  ./pose_data/csvtonpz/Dancejj0201.npy            0        200   \n",
      "4  ./pose_data/csvtonpz/Dancejj0202.npy            0        200   \n",
      "5  ./pose_data/csvtonpz/Dancejj0203.npy            0        200   \n",
      "6  ./pose_data/csvtonpz/Dancejj0301.npy            0        200   \n",
      "7  ./pose_data/csvtonpz/Dancejj0302.npy            0        200   \n",
      "8  ./pose_data/csvtonpz/Dancejj0303.npy            0        200   \n",
      "9  ./pose_data/csvtonpz/Dancejj0401.npy            0        200   \n",
      "\n",
      "          new_name  \n",
      "0  Dancejj0101.npy  \n",
      "1  Dancejj0102.npy  \n",
      "2  Dancejj0103.npy  \n",
      "3  Dancejj0201.npy  \n",
      "4  Dancejj0202.npy  \n",
      "5  Dancejj0203.npy  \n",
      "6  Dancejj0301.npy  \n",
      "7  Dancejj0302.npy  \n",
      "8  Dancejj0303.npy  \n",
      "9  Dancejj0401.npy  \n"
     ]
    }
   ],
   "source": [
    "# source_path,start_frame,end_frame,new_name\n",
    "\n",
    "def create_index_csv_from_pose_data():\n",
    "    \"\"\"\n",
    "    ./pose_data 폴더의 모든 .npy 파일들을 스캔하여 index.csv 파일을 생성합니다.\n",
    "    \"\"\"\n",
    "    pose_data_dir = './pose_data'\n",
    "    output_csv = './index_test.csv'\n",
    "    \n",
    "    # 결과를 저장할 리스트\n",
    "    csv_data = []\n",
    "    \n",
    "    # pose_data 폴더를 재귀적으로 탐색\n",
    "    for root, dirs, files in os.walk(pose_data_dir):\n",
    "        for file in files:\n",
    "            if file.endswith('.npy'):\n",
    "                # 전체 파일 경로\n",
    "                full_path = os.path.join(root, file)\n",
    "                \n",
    "                try:\n",
    "                    # 파일 로드하여 프레임 수 확인\n",
    "                    data = np.load(full_path)\n",
    "                    total_frames = data.shape[0]\n",
    "                    \n",
    "                    # 상대 경로로 변환 (./pose_data/...)\n",
    "                    relative_path = full_path.replace('\\\\', '/')\n",
    "                    \n",
    "                    # new_name은 파일명만 사용\n",
    "                    new_name = file\n",
    "                    \n",
    "                    # CSV 행 추가\n",
    "                    csv_data.append({\n",
    "                        'source_path': relative_path,\n",
    "                        'start_frame': 0,\n",
    "                        'end_frame': total_frames,\n",
    "                        'new_name': new_name\n",
    "                    })\n",
    "                    \n",
    "                    print(f\"Added: {relative_path} (frames: {total_frames})\")\n",
    "                    \n",
    "                except Exception as e:\n",
    "                    print(f\"Error processing {full_path}: {e}\")\n",
    "    \n",
    "    # DataFrame 생성 및 CSV 저장\n",
    "    df = pd.DataFrame(csv_data)\n",
    "    df.to_csv(output_csv, index=False)\n",
    "    \n",
    "    print(f\"\\nIndex CSV created: {output_csv}\")\n",
    "    print(f\"Total files processed: {len(csv_data)}\")\n",
    "    \n",
    "    return df\n",
    "\n",
    "# 실행\n",
    "df = create_index_csv_from_pose_data()\n",
    "\n",
    "# 결과 미리보기\n",
    "print(\"\\nFirst 10 entries:\")\n",
    "print(df.head(10))"
   ]
  },
  {
   "cell_type": "markdown",
   "metadata": {},
   "source": [
    "The above code will extract poses from **AMASS** dataset, and put them under directory **\"./pose_data\"**"
   ]
  },
  {
   "cell_type": "markdown",
   "metadata": {},
   "source": [
    "The source data from **HumanAct12** is already included in **\"./pose_data\"** in this repository. You need to **unzip** it right in this folder."
   ]
  },
  {
   "cell_type": "markdown",
   "metadata": {},
   "source": [
    "## Segment, Mirror and Relocate Motions"
   ]
  },
  {
   "cell_type": "code",
   "execution_count": 39,
   "metadata": {},
   "outputs": [],
   "source": [
    "import codecs as cs\n",
    "import pandas as pd\n",
    "import numpy as np\n",
    "from tqdm import tqdm\n",
    "from os.path import join as pjoin"
   ]
  },
  {
   "cell_type": "code",
   "execution_count": 40,
   "metadata": {},
   "outputs": [],
   "source": [
    "def swap_left_right(data):\n",
    "    assert len(data.shape) == 3 and data.shape[-1] == 3\n",
    "    data = data.copy()\n",
    "    data[..., 0] *= -1\n",
    "    right_chain = [2, 5, 8, 11, 14, 17, 19, 21]\n",
    "    left_chain = [1, 4, 7, 10, 13, 16, 18, 20]\n",
    "    left_hand_chain = [22, 23, 24, 34, 35, 36, 25, 26, 27, 31, 32, 33, 28, 29, 30]\n",
    "    right_hand_chain = [43, 44, 45, 46, 47, 48, 40, 41, 42, 37, 38, 39, 49, 50, 51]\n",
    "    tmp = data[:, right_chain]\n",
    "    data[:, right_chain] = data[:, left_chain]\n",
    "    data[:, left_chain] = tmp\n",
    "    if data.shape[1] > 24:\n",
    "        tmp = data[:, right_hand_chain]\n",
    "        data[:, right_hand_chain] = data[:, left_hand_chain]\n",
    "        data[:, left_hand_chain] = tmp\n",
    "    return data"
   ]
  },
  {
   "cell_type": "code",
   "execution_count": 41,
   "metadata": {},
   "outputs": [],
   "source": [
    "index_path = './index_test.csv'\n",
    "save_dir = './joints'\n",
    "index_file = pd.read_csv(index_path)\n",
    "total_amount = index_file.shape[0]\n",
    "fps = 20"
   ]
  },
  {
   "cell_type": "code",
   "execution_count": 42,
   "metadata": {},
   "outputs": [
    {
     "name": "stderr",
     "output_type": "stream",
     "text": [
      "100%|██████████| 129/129 [00:01<00:00, 94.02it/s] \n"
     ]
    }
   ],
   "source": [
    "for i in tqdm(range(total_amount)):\n",
    "    source_path = index_file.loc[i]['source_path']\n",
    "    new_name = index_file.loc[i]['new_name']\n",
    "    data = np.load(source_path)\n",
    "    start_frame = index_file.loc[i]['start_frame']\n",
    "    end_frame = index_file.loc[i]['end_frame']\n",
    "    if 'humanact12' not in source_path:\n",
    "        if 'Eyes_Japan_Dataset' in source_path:\n",
    "            data = data[3*fps:]\n",
    "        if 'MPI_HDM05' in source_path:\n",
    "            data = data[3*fps:]\n",
    "        if 'TotalCapture' in source_path:\n",
    "            data = data[1*fps:]\n",
    "        if 'MPI_Limits' in source_path:\n",
    "            data = data[1*fps:]\n",
    "        if 'Transitions_mocap' in source_path:\n",
    "            data = data[int(0.5*fps):]\n",
    "        data = data[start_frame:end_frame]\n",
    "        data[..., 0] *= -1\n",
    "    \n",
    "    data_m = swap_left_right(data)\n",
    "#     save_path = pjoin(save_dir, )\n",
    "    np.save(pjoin(save_dir, new_name), data)\n",
    "    np.save(pjoin(save_dir, 'M'+new_name), data_m)"
   ]
  },
  {
   "cell_type": "markdown",
   "metadata": {},
   "source": [
    "## Text 파일 생성"
   ]
  },
  {
   "cell_type": "code",
   "execution_count": null,
   "metadata": {},
   "outputs": [
    {
     "name": "stdout",
     "output_type": "stream",
     "text": [
      "Creating text files for all motion files...\n",
      "Skipped: 012314.npy\n",
      "Created: ./HumanML3D/texts_tmp\\Dancejj0101.txt\n",
      "Created: ./HumanML3D/texts_tmp\\Dancejj0102.txt\n",
      "Created: ./HumanML3D/texts_tmp\\Dancejj0103.txt\n",
      "Created: ./HumanML3D/texts_tmp\\Dancejj0201.txt\n",
      "Created: ./HumanML3D/texts_tmp\\Dancejj0202.txt\n",
      "Created: ./HumanML3D/texts_tmp\\Dancejj0203.txt\n",
      "Created: ./HumanML3D/texts_tmp\\Dancejj0301.txt\n",
      "Created: ./HumanML3D/texts_tmp\\Dancejj0302.txt\n",
      "Created: ./HumanML3D/texts_tmp\\Dancejj0303.txt\n",
      "Created: ./HumanML3D/texts_tmp\\Dancejj0401.txt\n",
      "Created: ./HumanML3D/texts_tmp\\Dancejj0402.txt\n",
      "Created: ./HumanML3D/texts_tmp\\Dancejj0403.txt\n",
      "Created: ./HumanML3D/texts_tmp\\Dancejj0501.txt\n",
      "Created: ./HumanML3D/texts_tmp\\Dancejj0502.txt\n",
      "Created: ./HumanML3D/texts_tmp\\Dancejj0503.txt\n",
      "Created: ./HumanML3D/texts_tmp\\Dancejj0601.txt\n",
      "Created: ./HumanML3D/texts_tmp\\Dancejj0602.txt\n",
      "Created: ./HumanML3D/texts_tmp\\Dancejj0603.txt\n",
      "Created: ./HumanML3D/texts_tmp\\Dancejj0701.txt\n",
      "Created: ./HumanML3D/texts_tmp\\Dancejj0702.txt\n",
      "Created: ./HumanML3D/texts_tmp\\Dancejj0703.txt\n",
      "Created: ./HumanML3D/texts_tmp\\Dancejj0801.txt\n",
      "Created: ./HumanML3D/texts_tmp\\Dancejj0802.txt\n",
      "Created: ./HumanML3D/texts_tmp\\Dancejj0803.txt\n",
      "Created: ./HumanML3D/texts_tmp\\Dancejj0901.txt\n",
      "Created: ./HumanML3D/texts_tmp\\Dancejj0902.txt\n",
      "Created: ./HumanML3D/texts_tmp\\Dancejj0903.txt\n",
      "Created: ./HumanML3D/texts_tmp\\Dancejj1001.txt\n",
      "Created: ./HumanML3D/texts_tmp\\Dancejj1101.txt\n",
      "Created: ./HumanML3D/texts_tmp\\Dancejj1201.txt\n",
      "Created: ./HumanML3D/texts_tmp\\Dancejj1301.txt\n",
      "Created: ./HumanML3D/texts_tmp\\Dancejj1401.txt\n",
      "Created: ./HumanML3D/texts_tmp\\Dancejj1501.txt\n",
      "Created: ./HumanML3D/texts_tmp\\Dancejj1601.txt\n",
      "Created: ./HumanML3D/texts_tmp\\Dancejj_shuffle01.txt\n",
      "Created: ./HumanML3D/texts_tmp\\Dancejj_spongebob01.txt\n",
      "Created: ./HumanML3D/texts_tmp\\Dancejy0101.txt\n",
      "Created: ./HumanML3D/texts_tmp\\Dancejy0102.txt\n",
      "Created: ./HumanML3D/texts_tmp\\Dancejy0103.txt\n",
      "Created: ./HumanML3D/texts_tmp\\Dancejy0201.txt\n",
      "Created: ./HumanML3D/texts_tmp\\Dancejy0202.txt\n",
      "Created: ./HumanML3D/texts_tmp\\Dancejy0203.txt\n",
      "Created: ./HumanML3D/texts_tmp\\Dancejy0301.txt\n",
      "Created: ./HumanML3D/texts_tmp\\Dancejy0302.txt\n",
      "Created: ./HumanML3D/texts_tmp\\Dancejy0303.txt\n",
      "Created: ./HumanML3D/texts_tmp\\Dancejy0401.txt\n",
      "Created: ./HumanML3D/texts_tmp\\Dancejy0402.txt\n",
      "Created: ./HumanML3D/texts_tmp\\Dancejy0403.txt\n",
      "Created: ./HumanML3D/texts_tmp\\Dancejy0501.txt\n",
      "Created: ./HumanML3D/texts_tmp\\Dancejy0502.txt\n",
      "Created: ./HumanML3D/texts_tmp\\Dancejy0503.txt\n",
      "Created: ./HumanML3D/texts_tmp\\Dancejy0601.txt\n",
      "Created: ./HumanML3D/texts_tmp\\Dancejy0602.txt\n",
      "Created: ./HumanML3D/texts_tmp\\Dancejy0603.txt\n",
      "Created: ./HumanML3D/texts_tmp\\Dancejy0701.txt\n",
      "Created: ./HumanML3D/texts_tmp\\Dancejy0702.txt\n",
      "Created: ./HumanML3D/texts_tmp\\Dancejy0703.txt\n",
      "Created: ./HumanML3D/texts_tmp\\Dancejy0801.txt\n",
      "Created: ./HumanML3D/texts_tmp\\Dancejy0802.txt\n",
      "Created: ./HumanML3D/texts_tmp\\Dancejy0803.txt\n",
      "Created: ./HumanML3D/texts_tmp\\Dancejy0901.txt\n",
      "Created: ./HumanML3D/texts_tmp\\Dancejy0902.txt\n",
      "Created: ./HumanML3D/texts_tmp\\Dancejy0903.txt\n",
      "Created: ./HumanML3D/texts_tmp\\Dancejy1001.txt\n",
      "Created: ./HumanML3D/texts_tmp\\Dancejy1101.txt\n",
      "Created: ./HumanML3D/texts_tmp\\Dancejy1201.txt\n",
      "Created: ./HumanML3D/texts_tmp\\Dancejy1301.txt\n",
      "Created: ./HumanML3D/texts_tmp\\Dancejy1401.txt\n",
      "Created: ./HumanML3D/texts_tmp\\Dancejy_shuffle01.txt\n",
      "Created: ./HumanML3D/texts_tmp\\Dancejy_spongebob0101.txt\n",
      "Created: ./HumanML3D/texts_tmp\\Dancejy_spongebob0102.txt\n",
      "Created: ./HumanML3D/texts_tmp\\Dancejy_spongebob0103.txt\n",
      "Created: ./HumanML3D/texts_tmp\\Dancejy_spongebob0201.txt\n",
      "Created: ./HumanML3D/texts_tmp\\Dancejy_spongebob0202.txt\n",
      "Created: ./HumanML3D/texts_tmp\\Dancejy_spongebob0203.txt\n",
      "Created: ./HumanML3D/texts_tmp\\Dancewj0101.txt\n",
      "Created: ./HumanML3D/texts_tmp\\Dancewj0102.txt\n",
      "Created: ./HumanML3D/texts_tmp\\Dancewj0103.txt\n",
      "Created: ./HumanML3D/texts_tmp\\Dancewj0201.txt\n",
      "Created: ./HumanML3D/texts_tmp\\Dancewj0202.txt\n",
      "Created: ./HumanML3D/texts_tmp\\Dancewj0203.txt\n",
      "Created: ./HumanML3D/texts_tmp\\Dancewj0301.txt\n",
      "Created: ./HumanML3D/texts_tmp\\Dancewj0302.txt\n",
      "Created: ./HumanML3D/texts_tmp\\Dancewj0303.txt\n",
      "Created: ./HumanML3D/texts_tmp\\Dancewj0401.txt\n",
      "Created: ./HumanML3D/texts_tmp\\Dancewj0402.txt\n",
      "Created: ./HumanML3D/texts_tmp\\Dancewj0403.txt\n",
      "Created: ./HumanML3D/texts_tmp\\Dancewj0501.txt\n",
      "Created: ./HumanML3D/texts_tmp\\Dancewj0502.txt\n",
      "Created: ./HumanML3D/texts_tmp\\Dancewj0503.txt\n",
      "Created: ./HumanML3D/texts_tmp\\Dancewj0601.txt\n",
      "Created: ./HumanML3D/texts_tmp\\Dancewj0602.txt\n",
      "Created: ./HumanML3D/texts_tmp\\Dancewj0603.txt\n",
      "Created: ./HumanML3D/texts_tmp\\Dancewj0701.txt\n",
      "Created: ./HumanML3D/texts_tmp\\Dancewj0702.txt\n",
      "Created: ./HumanML3D/texts_tmp\\Dancewj0703.txt\n",
      "Created: ./HumanML3D/texts_tmp\\Dancewj0801.txt\n",
      "Created: ./HumanML3D/texts_tmp\\Dancewj0802.txt\n",
      "Created: ./HumanML3D/texts_tmp\\Dancewj0803.txt\n",
      "Created: ./HumanML3D/texts_tmp\\Dancewj0901.txt\n",
      "Created: ./HumanML3D/texts_tmp\\Dancewj0902.txt\n",
      "Created: ./HumanML3D/texts_tmp\\Dancewj0903.txt\n",
      "Created: ./HumanML3D/texts_tmp\\Dancewj1001.txt\n",
      "Created: ./HumanML3D/texts_tmp\\Dancewj1002.txt\n",
      "Created: ./HumanML3D/texts_tmp\\Dancewj1003.txt\n",
      "Created: ./HumanML3D/texts_tmp\\Dancewj1101.txt\n",
      "Created: ./HumanML3D/texts_tmp\\Dancewj1102.txt\n",
      "Created: ./HumanML3D/texts_tmp\\Dancewj1103.txt\n",
      "Created: ./HumanML3D/texts_tmp\\Dancewj1201.txt\n",
      "Created: ./HumanML3D/texts_tmp\\Dancewj1202.txt\n",
      "Created: ./HumanML3D/texts_tmp\\Dancewj1203.txt\n",
      "Created: ./HumanML3D/texts_tmp\\Dancewj1301.txt\n",
      "Created: ./HumanML3D/texts_tmp\\Dancewj1302.txt\n",
      "Created: ./HumanML3D/texts_tmp\\Dancewj1303.txt\n",
      "Created: ./HumanML3D/texts_tmp\\Dancewj1401.txt\n",
      "Created: ./HumanML3D/texts_tmp\\Dancewj1402.txt\n",
      "Created: ./HumanML3D/texts_tmp\\Dancewj1403.txt\n",
      "Created: ./HumanML3D/texts_tmp\\Dancewj1501.txt\n",
      "Created: ./HumanML3D/texts_tmp\\Dancewj1502.txt\n",
      "Created: ./HumanML3D/texts_tmp\\Dancewj1503.txt\n",
      "Created: ./HumanML3D/texts_tmp\\Dancewj1601.txt\n",
      "Created: ./HumanML3D/texts_tmp\\Dancewj1602.txt\n",
      "Created: ./HumanML3D/texts_tmp\\Dancewj1603.txt\n",
      "Created: ./HumanML3D/texts_tmp\\Dancewj_shuffle01.txt\n",
      "Created: ./HumanML3D/texts_tmp\\Dancewj_shuffle02.txt\n",
      "Created: ./HumanML3D/texts_tmp\\Dancewj_shuffle03.txt\n",
      "Created: ./HumanML3D/texts_tmp\\Dancewj_spongebob01.txt\n",
      "Created: ./HumanML3D/texts_tmp\\Dancewj_spongebob02.txt\n",
      "Created: ./HumanML3D/texts_tmp\\Dancewj_spongebob03.txt\n",
      "Created: ./HumanML3D/texts_tmp\\MDancejj0101.txt\n",
      "Created: ./HumanML3D/texts_tmp\\MDancejj0102.txt\n",
      "Created: ./HumanML3D/texts_tmp\\MDancejj0103.txt\n",
      "Created: ./HumanML3D/texts_tmp\\MDancejj0201.txt\n",
      "Created: ./HumanML3D/texts_tmp\\MDancejj0202.txt\n",
      "Created: ./HumanML3D/texts_tmp\\MDancejj0203.txt\n",
      "Created: ./HumanML3D/texts_tmp\\MDancejj0301.txt\n",
      "Created: ./HumanML3D/texts_tmp\\MDancejj0302.txt\n",
      "Created: ./HumanML3D/texts_tmp\\MDancejj0303.txt\n",
      "Created: ./HumanML3D/texts_tmp\\MDancejj0401.txt\n",
      "Created: ./HumanML3D/texts_tmp\\MDancejj0402.txt\n",
      "Created: ./HumanML3D/texts_tmp\\MDancejj0403.txt\n",
      "Created: ./HumanML3D/texts_tmp\\MDancejj0501.txt\n",
      "Created: ./HumanML3D/texts_tmp\\MDancejj0502.txt\n",
      "Created: ./HumanML3D/texts_tmp\\MDancejj0503.txt\n",
      "Created: ./HumanML3D/texts_tmp\\MDancejj0601.txt\n",
      "Created: ./HumanML3D/texts_tmp\\MDancejj0602.txt\n",
      "Created: ./HumanML3D/texts_tmp\\MDancejj0603.txt\n",
      "Created: ./HumanML3D/texts_tmp\\MDancejj0701.txt\n",
      "Created: ./HumanML3D/texts_tmp\\MDancejj0702.txt\n",
      "Created: ./HumanML3D/texts_tmp\\MDancejj0703.txt\n",
      "Created: ./HumanML3D/texts_tmp\\MDancejj0801.txt\n",
      "Created: ./HumanML3D/texts_tmp\\MDancejj0802.txt\n",
      "Created: ./HumanML3D/texts_tmp\\MDancejj0803.txt\n",
      "Created: ./HumanML3D/texts_tmp\\MDancejj0901.txt\n",
      "Created: ./HumanML3D/texts_tmp\\MDancejj0902.txt\n",
      "Created: ./HumanML3D/texts_tmp\\MDancejj0903.txt\n",
      "Created: ./HumanML3D/texts_tmp\\MDancejj1001.txt\n",
      "Created: ./HumanML3D/texts_tmp\\MDancejj1101.txt\n",
      "Created: ./HumanML3D/texts_tmp\\MDancejj1201.txt\n",
      "Created: ./HumanML3D/texts_tmp\\MDancejj1301.txt\n",
      "Created: ./HumanML3D/texts_tmp\\MDancejj1401.txt\n",
      "Created: ./HumanML3D/texts_tmp\\MDancejj1501.txt\n",
      "Created: ./HumanML3D/texts_tmp\\MDancejj1601.txt\n",
      "Created: ./HumanML3D/texts_tmp\\MDancejj_shuffle01.txt\n",
      "Created: ./HumanML3D/texts_tmp\\MDancejj_spongebob01.txt\n",
      "Created: ./HumanML3D/texts_tmp\\MDancejy0101.txt\n",
      "Created: ./HumanML3D/texts_tmp\\MDancejy0102.txt\n",
      "Created: ./HumanML3D/texts_tmp\\MDancejy0103.txt\n",
      "Created: ./HumanML3D/texts_tmp\\MDancejy0201.txt\n",
      "Created: ./HumanML3D/texts_tmp\\MDancejy0202.txt\n",
      "Created: ./HumanML3D/texts_tmp\\MDancejy0203.txt\n",
      "Created: ./HumanML3D/texts_tmp\\MDancejy0301.txt\n",
      "Created: ./HumanML3D/texts_tmp\\MDancejy0302.txt\n",
      "Created: ./HumanML3D/texts_tmp\\MDancejy0303.txt\n",
      "Created: ./HumanML3D/texts_tmp\\MDancejy0401.txt\n",
      "Created: ./HumanML3D/texts_tmp\\MDancejy0402.txt\n",
      "Created: ./HumanML3D/texts_tmp\\MDancejy0403.txt\n",
      "Created: ./HumanML3D/texts_tmp\\MDancejy0501.txt\n",
      "Created: ./HumanML3D/texts_tmp\\MDancejy0502.txt\n",
      "Created: ./HumanML3D/texts_tmp\\MDancejy0503.txt\n",
      "Created: ./HumanML3D/texts_tmp\\MDancejy0601.txt\n",
      "Created: ./HumanML3D/texts_tmp\\MDancejy0602.txt\n",
      "Created: ./HumanML3D/texts_tmp\\MDancejy0603.txt\n",
      "Created: ./HumanML3D/texts_tmp\\MDancejy0701.txt\n",
      "Created: ./HumanML3D/texts_tmp\\MDancejy0702.txt\n",
      "Created: ./HumanML3D/texts_tmp\\MDancejy0703.txt\n",
      "Created: ./HumanML3D/texts_tmp\\MDancejy0801.txt\n",
      "Created: ./HumanML3D/texts_tmp\\MDancejy0802.txt\n",
      "Created: ./HumanML3D/texts_tmp\\MDancejy0803.txt\n",
      "Created: ./HumanML3D/texts_tmp\\MDancejy0901.txt\n",
      "Created: ./HumanML3D/texts_tmp\\MDancejy0902.txt\n",
      "Created: ./HumanML3D/texts_tmp\\MDancejy0903.txt\n",
      "Created: ./HumanML3D/texts_tmp\\MDancejy1001.txt\n",
      "Created: ./HumanML3D/texts_tmp\\MDancejy1101.txt\n",
      "Created: ./HumanML3D/texts_tmp\\MDancejy1201.txt\n",
      "Created: ./HumanML3D/texts_tmp\\MDancejy1301.txt\n",
      "Created: ./HumanML3D/texts_tmp\\MDancejy1401.txt\n",
      "Created: ./HumanML3D/texts_tmp\\MDancejy_shuffle01.txt\n",
      "Created: ./HumanML3D/texts_tmp\\MDancejy_spongebob0101.txt\n",
      "Created: ./HumanML3D/texts_tmp\\MDancejy_spongebob0102.txt\n",
      "Created: ./HumanML3D/texts_tmp\\MDancejy_spongebob0103.txt\n",
      "Created: ./HumanML3D/texts_tmp\\MDancejy_spongebob0201.txt\n",
      "Created: ./HumanML3D/texts_tmp\\MDancejy_spongebob0202.txt\n",
      "Created: ./HumanML3D/texts_tmp\\MDancejy_spongebob0203.txt\n",
      "Created: ./HumanML3D/texts_tmp\\MDancewj0101.txt\n",
      "Created: ./HumanML3D/texts_tmp\\MDancewj0102.txt\n",
      "Created: ./HumanML3D/texts_tmp\\MDancewj0103.txt\n",
      "Created: ./HumanML3D/texts_tmp\\MDancewj0201.txt\n",
      "Created: ./HumanML3D/texts_tmp\\MDancewj0202.txt\n",
      "Created: ./HumanML3D/texts_tmp\\MDancewj0203.txt\n",
      "Created: ./HumanML3D/texts_tmp\\MDancewj0301.txt\n",
      "Created: ./HumanML3D/texts_tmp\\MDancewj0302.txt\n",
      "Created: ./HumanML3D/texts_tmp\\MDancewj0303.txt\n",
      "Created: ./HumanML3D/texts_tmp\\MDancewj0401.txt\n",
      "Created: ./HumanML3D/texts_tmp\\MDancewj0402.txt\n",
      "Created: ./HumanML3D/texts_tmp\\MDancewj0403.txt\n",
      "Created: ./HumanML3D/texts_tmp\\MDancewj0501.txt\n",
      "Created: ./HumanML3D/texts_tmp\\MDancewj0502.txt\n",
      "Created: ./HumanML3D/texts_tmp\\MDancewj0503.txt\n",
      "Created: ./HumanML3D/texts_tmp\\MDancewj0601.txt\n",
      "Created: ./HumanML3D/texts_tmp\\MDancewj0602.txt\n",
      "Created: ./HumanML3D/texts_tmp\\MDancewj0603.txt\n",
      "Created: ./HumanML3D/texts_tmp\\MDancewj0701.txt\n",
      "Created: ./HumanML3D/texts_tmp\\MDancewj0702.txt\n",
      "Created: ./HumanML3D/texts_tmp\\MDancewj0703.txt\n",
      "Created: ./HumanML3D/texts_tmp\\MDancewj0801.txt\n",
      "Created: ./HumanML3D/texts_tmp\\MDancewj0802.txt\n",
      "Created: ./HumanML3D/texts_tmp\\MDancewj0803.txt\n",
      "Created: ./HumanML3D/texts_tmp\\MDancewj0901.txt\n",
      "Created: ./HumanML3D/texts_tmp\\MDancewj0902.txt\n",
      "Created: ./HumanML3D/texts_tmp\\MDancewj0903.txt\n",
      "Created: ./HumanML3D/texts_tmp\\MDancewj1001.txt\n",
      "Created: ./HumanML3D/texts_tmp\\MDancewj1002.txt\n",
      "Created: ./HumanML3D/texts_tmp\\MDancewj1003.txt\n",
      "Created: ./HumanML3D/texts_tmp\\MDancewj1101.txt\n",
      "Created: ./HumanML3D/texts_tmp\\MDancewj1102.txt\n",
      "Created: ./HumanML3D/texts_tmp\\MDancewj1103.txt\n",
      "Created: ./HumanML3D/texts_tmp\\MDancewj1201.txt\n",
      "Created: ./HumanML3D/texts_tmp\\MDancewj1202.txt\n",
      "Created: ./HumanML3D/texts_tmp\\MDancewj1203.txt\n",
      "Created: ./HumanML3D/texts_tmp\\MDancewj1301.txt\n",
      "Created: ./HumanML3D/texts_tmp\\MDancewj1302.txt\n",
      "Created: ./HumanML3D/texts_tmp\\MDancewj1303.txt\n",
      "Created: ./HumanML3D/texts_tmp\\MDancewj1401.txt\n",
      "Created: ./HumanML3D/texts_tmp\\MDancewj1402.txt\n",
      "Created: ./HumanML3D/texts_tmp\\MDancewj1403.txt\n",
      "Created: ./HumanML3D/texts_tmp\\MDancewj1501.txt\n",
      "Created: ./HumanML3D/texts_tmp\\MDancewj1502.txt\n",
      "Created: ./HumanML3D/texts_tmp\\MDancewj1503.txt\n",
      "Created: ./HumanML3D/texts_tmp\\MDancewj1601.txt\n",
      "Created: ./HumanML3D/texts_tmp\\MDancewj1602.txt\n",
      "Created: ./HumanML3D/texts_tmp\\MDancewj1603.txt\n",
      "Created: ./HumanML3D/texts_tmp\\MDancewj_shuffle01.txt\n",
      "Created: ./HumanML3D/texts_tmp\\MDancewj_shuffle02.txt\n",
      "Created: ./HumanML3D/texts_tmp\\MDancewj_shuffle03.txt\n",
      "Created: ./HumanML3D/texts_tmp\\MDancewj_spongebob01.txt\n",
      "Created: ./HumanML3D/texts_tmp\\MDancewj_spongebob02.txt\n",
      "Created: ./HumanML3D/texts_tmp\\MDancewj_spongebob03.txt\n",
      "✓ MDancejj0201 found in all_file_names\n",
      "\n",
      "Text files created in: ./HumanML3D/texts_tmp\n",
      "Total text files: 260\n",
      "All file names saved to: ./HumanML3D/all.txt\n",
      "Total file names in all.txt: 258\n",
      "\n",
      "Dataset split:\n",
      "Test set (25 files, 9.7%): ./HumanML3D/test.txt\n",
      "Train set (210 files, 90.1% of train_val): ./HumanML3D/train.txt\n",
      "Val set (23 files, 9.9% of train_val): ./HumanML3D/val.txt\n",
      "Train_val set (233 files, 90.3%): ./HumanML3D/train_val.txt\n",
      "\n",
      "Verification:\n",
      "Total: 258\n",
      "Test: 25\n",
      "Train: 210\n",
      "Val: 23\n",
      "Sum: 258\n",
      "Match: True\n",
      "\n",
      "MDancejj0201 is in TEST set\n"
     ]
    }
   ],
   "source": [
    "import os\n",
    "import random\n",
    "from pathlib import Path\n",
    "\n",
    "# texts_tmp 폴더 생성\n",
    "texts_tmp_dir = './HumanML3D/texts_tmp'\n",
    "os.makedirs(texts_tmp_dir, exist_ok=True)\n",
    "\n",
    "# joints 폴더에 생성된 모든 .npy 파일에 대해 txt 파일 생성\n",
    "joints_dir = './joints'\n",
    "\n",
    "print(\"Creating text files for all motion files...\")\n",
    "\n",
    "# 모든 파일 이름을 저장할 리스트\n",
    "all_file_names = []\n",
    "skipped_files = []\n",
    "\n",
    "# joints 폴더의 모든 .npy 파일 찾기\n",
    "if os.path.exists(joints_dir):\n",
    "    for filename in os.listdir(joints_dir):\n",
    "        if filename.endswith('.npy'):\n",
    "            # 012314.npy 파일 제외\n",
    "            if filename == '012314.npy':\n",
    "                print(f\"Skipped: {filename}\")\n",
    "                skipped_files.append(filename)\n",
    "                continue\n",
    "                \n",
    "            # .npy 확장자를 .txt로 변경\n",
    "            txt_filename = filename.replace('.npy', '.txt')\n",
    "            txt_filepath = os.path.join(texts_tmp_dir, txt_filename)\n",
    "            \n",
    "            # 기본 텍스트 설명 생성 (파일명 기반)\n",
    "            base_name = filename.replace('.npy', '')\n",
    "            \n",
    "            # all.txt에 추가할 파일명 (확장자 제거)\n",
    "            all_file_names.append(base_name)\n",
    "            \n",
    "            # 미러링된 파일인지 확인\n",
    "            is_mirrored = base_name.startswith('M')\n",
    "            if is_mirrored:\n",
    "                original_name = base_name[1:]  # M 제거\n",
    "                description = f\"A mirrored version of motion {original_name}. The movement is horizontally flipped.\"\n",
    "            else:\n",
    "                description = f\"A human motion sequence from file {base_name}.\"\n",
    "            \n",
    "            # 데이터셋별 특별한 설명 추가\n",
    "            if 'humanact12' in base_name.lower():\n",
    "                description += \" This is from the HumanAct12 dataset.\"\n",
    "            elif any(dataset in base_name.lower() for dataset in ['cmu', 'kit', 'bml', 'sfu', 'hdm05']):\n",
    "                for dataset in ['cmu', 'kit', 'bml', 'sfu', 'hdm05']:\n",
    "                    if dataset in base_name.lower():\n",
    "                        description += f\" This is from the {dataset.upper()} dataset.\"\n",
    "                        break\n",
    "            \n",
    "            # txt 파일에 설명 저장\n",
    "            with open(txt_filepath, 'w', encoding='utf-8') as f:\n",
    "                f.write(description)\n",
    "            \n",
    "            print(f\"Created: {txt_filepath}\")\n",
    "\n",
    "# MDancejj0201 확인\n",
    "if 'MDancejj0201' in all_file_names:\n",
    "    print(\"✓ MDancejj0201 found in all_file_names\")\n",
    "else:\n",
    "    print(\"✗ MDancejj0201 NOT found in all_file_names\")\n",
    "\n",
    "# all.txt 파일 생성 (모든 파일 이름 저장)\n",
    "all_txt_path = './HumanML3D/all.txt'\n",
    "os.makedirs(os.path.dirname(all_txt_path), exist_ok=True)\n",
    "\n",
    "# 파일 이름 정렬 (선택사항)\n",
    "all_file_names.sort()\n",
    "\n",
    "with open(all_txt_path, 'w', encoding='utf-8') as f:\n",
    "    for file_name in all_file_names:\n",
    "        f.write(file_name + '\\n')\n",
    "\n",
    "# train/test 분할 (10% test, 90% train_val)\n",
    "random.seed(42)  # 재현 가능한 결과를 위한 시드 설정\n",
    "shuffled_names = all_file_names.copy()\n",
    "random.shuffle(shuffled_names)\n",
    "\n",
    "total_count = len(shuffled_names)\n",
    "test_count = int(total_count * 0.1)  # 10%를 테스트용으로\n",
    "\n",
    "test_names = shuffled_names[:test_count]\n",
    "train_val_names = shuffled_names[test_count:]\n",
    "\n",
    "# train_val을 다시 train과 val로 분할 (train_val의 10%를 val로)\n",
    "random.seed(42)  # 같은 시드로 재현 가능성 보장\n",
    "shuffled_train_val = train_val_names.copy()\n",
    "random.shuffle(shuffled_train_val)\n",
    "\n",
    "train_val_count = len(shuffled_train_val)\n",
    "val_count = int(train_val_count * 0.1)  # train_val의 10%를 val로\n",
    "\n",
    "val_names = shuffled_train_val[:val_count]\n",
    "train_names = shuffled_train_val[val_count:]\n",
    "\n",
    "# test.txt 파일 생성\n",
    "test_txt_path = './HumanML3D/test.txt'\n",
    "with open(test_txt_path, 'w', encoding='utf-8') as f:\n",
    "    for file_name in test_names:\n",
    "        f.write(file_name + '\\n')\n",
    "\n",
    "# train.txt 파일 생성\n",
    "train_txt_path = './HumanML3D/train.txt'\n",
    "with open(train_txt_path, 'w', encoding='utf-8') as f:\n",
    "    for file_name in train_names:\n",
    "        f.write(file_name + '\\n')\n",
    "\n",
    "# val.txt 파일 생성\n",
    "val_txt_path = './HumanML3D/val.txt'\n",
    "with open(val_txt_path, 'w', encoding='utf-8') as f:\n",
    "    for file_name in val_names:\n",
    "        f.write(file_name + '\\n')\n",
    "\n",
    "# 기존 train_val.txt도 유지 (필요한 경우)\n",
    "train_val_txt_path = './HumanML3D/train_val.txt'\n",
    "with open(train_val_txt_path, 'w', encoding='utf-8') as f:\n",
    "    for file_name in train_val_names:\n",
    "        f.write(file_name + '\\n')\n",
    "\n",
    "print(f\"\\nText files created in: {texts_tmp_dir}\")\n",
    "print(f\"Total text files: {len(os.listdir(texts_tmp_dir)) if os.path.exists(texts_tmp_dir) else 0}\")\n",
    "print(f\"All file names saved to: {all_txt_path}\")\n",
    "print(f\"Total file names in all.txt: {len(all_file_names)}\")\n",
    "\n",
    "print(f\"\\nDataset split:\")\n",
    "print(f\"Test set ({len(test_names)} files, {len(test_names)/total_count*100:.1f}%): {test_txt_path}\")\n",
    "print(f\"Train set ({len(train_names)} files, {len(train_names)/train_val_count*100:.1f}% of train_val): {train_txt_path}\")\n",
    "print(f\"Val set ({len(val_names)} files, {len(val_names)/train_val_count*100:.1f}% of train_val): {val_txt_path}\")\n",
    "print(f\"Train_val set ({len(train_val_names)} files, {len(train_val_names)/total_count*100:.1f}%): {train_val_txt_path}\")\n",
    "\n",
    "print(f\"\\nVerification:\")\n",
    "print(f\"Total: {total_count}\")\n",
    "print(f\"Test: {len(test_names)}\")\n",
    "print(f\"Train: {len(train_names)}\")\n",
    "print(f\"Val: {len(val_names)}\")\n",
    "print(f\"Sum: {len(test_names) + len(train_names) + len(val_names)}\")\n",
    "print(f\"Match: {total_count == len(test_names) + len(train_names) + len(val_names)}\")"
   ]
  },
  {
   "cell_type": "code",
   "execution_count": null,
   "metadata": {},
   "outputs": [],
   "source": []
  }
 ],
 "metadata": {
  "kernelspec": {
   "display_name": "torch_render",
   "language": "python",
   "name": "python3"
  },
  "language_info": {
   "codemirror_mode": {
    "name": "ipython",
    "version": 3
   },
   "file_extension": ".py",
   "mimetype": "text/x-python",
   "name": "python",
   "nbconvert_exporter": "python",
   "pygments_lexer": "ipython3",
   "version": "3.7.10"
  }
 },
 "nbformat": 4,
 "nbformat_minor": 4
}
